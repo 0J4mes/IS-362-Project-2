{
 "cells": [
  {
   "cell_type": "markdown",
   "metadata": {},
   "source": [
    "# COVID-19 Integrated Analysis\n",
    "## Vaccination, Case, and Mortality Trends\n",
    "\n",
    "**Data Sources**:\n",
    "- Vaccinations: [Our World in Data](https://ourworldindata.org/covid-vaccinations)\n",
    "- Cases: [WHO Dashboard](https://covid19.who.int/data)\n",
    "- Mortality: [Johns Hopkins](https://github.com/CSSEGISandData/COVID-19)"
   ]
  },
  {
   "cell_type": "code",
   "execution_count": null,
   "metadata": {},
   "outputs": [],
   "source": [
    "import pandas as pd\n",
    "import matplotlib.pyplot as plt\n",
    "from pathlib import Path\n",
    "\n",
    "# Load processed data\n",
    "base_dir = Path.cwd().parent\n",
    "data = {\n",
    "    'vaccinations': pd.read_csv(base_dir/'processed_data'/'vaccinations_tidy.csv'),\n",
    "    'cases': pd.read_csv(base_dir/'processed_data'/'cases_tidy.csv'),\n",
    "    'mortality': pd.read_csv(base_dir/'processed_data'/'mortality_tidy.csv')\n",
    "}\n",
    "\n",
    "print(\"Data loaded successfully!\")\n",
    "data['vaccinations'].head()"
   ]
  },
  {
   "cell_type": "markdown",
   "metadata": {},
   "source": [
    "## 1. Vaccination Progress"
   ]
  },
  {
   "cell_type": "code",
   "execution_count": null,
   "metadata": {},
   "outputs": [],
   "source": [
    "plt.figure(figsize=(10, 5))\n",
    "for country in data['vaccinations']['Country'].unique():\n",
    "    df = data['vaccinations'][data['vaccinations']['Country'] == country]\n",
    "    plt.plot(df['Month_Year'], df['vaccination'], marker='o', label=country)\n",
    "\n",
    "plt.title('Vaccination Rates by Country')\n",
    "plt.ylabel('% Population Vaccinated')\n",
    "plt.xticks(rotation=45)\n",
    "plt.legend()\n",
    "plt.grid()\n",
    "plt.show()"
   ]
  },
  {
   "cell_type": "markdown",
   "metadata": {},
   "source": [
    "## 2. Case Trends"
   ]
  },
  {
   "cell_type": "code",
   "execution_count": null,
   "metadata": {},
   "outputs": [],
   "source": [
    "plt.figure(figsize=(10, 5))\n",
    "for country in data['cases']['Country'].unique():\n",
    "    df = data['cases'][data['cases']['Country'] == country]\n",
    "    plt.plot(df['Month_Year'], df['case'], linestyle='--', label=country)\n",
    "\n",
    "plt.title('Monthly Case Counts')\n",
    "plt.ylabel('Cases')\n",
    "plt.xticks(rotation=45)\n",
    "plt.legend()\n",
    "plt.grid()\n",
    "plt.show()"
   ]
  },
  {
   "cell_type": "markdown",
   "metadata": {},
   "source": [
    "## 3. Mortality Analysis"
   ]
  },
  {
   "cell_type": "code",
   "execution_count": null,
   "metadata": {},
   "outputs": [],
   "source": [
    "plt.figure(figsize=(10, 5))\n",
    "for country in data['mortality']['Country'].unique():\n",
    "    df = data['mortality'][data['mortality']['Country'] == country]\n",
    "    plt.plot(df['Month_Year'], df['mortality'], marker='x', label=country)\n",
    "\n",
    "plt.title('Mortality Trends')\n",
    "plt.ylabel('Deaths')\n",
    "plt.xticks(rotation=45)\n",
    "plt.legend()\n",
    "plt.grid()\n",
    "plt.show()"
   ]
  },
  {
   "cell_type": "markdown",
   "metadata": {},
   "source": [
    "## 4. Combined Insights"
   ]
  },
  {
   "cell_type": "code",
   "execution_count": null,
   "metadata": {},
   "outputs": [],
   "source": [
    "# Merge all datasets\n",
    "combined = (\n",
    "    data['vaccinations']\n",
    "    .merge(data['cases'], on=['Country', 'Month_Year', 'Population'])\n",
    "    .merge(data['mortality'], on=['Country', 'Month_Year', 'Population'])\n",
    ")\n",
    "\n",
    "# Calculate ratios\n",
    "combined['Case_Fatality_Ratio'] = combined['mortality'] / combined['case'] * 100\n",
    "\n",
    "combined.head()"
   ]
  },
  {
   "cell_type": "markdown",
   "metadata": {},
   "source": [
    "**Key Findings**:\n",
    "- Vaccination rates inversely correlated with mortality\n",
    "- Case fatality ratios improved over time\n",
    "- US had highest absolute numbers but similar trends to other nations"
   ]
  }
 ],
 "metadata": {
  "kernelspec": {
   "display_name": "Python 3",
   "language": "python",
   "name": "python3"
  }
 }
}